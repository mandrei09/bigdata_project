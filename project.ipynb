{
 "cells": [
  {
   "cell_type": "code",
   "execution_count": 1,
   "id": "57079569",
   "metadata": {},
   "outputs": [
    {
     "name": "stdout",
     "output_type": "stream",
     "text": [
      "1\n"
     ]
    }
   ],
   "source": [
    "print(1)"
   ]
  },
  {
   "cell_type": "markdown",
   "id": "a4d5084b",
   "metadata": {},
   "source": [
    "# 1.Introducere\n",
    "## Prezentarea succintă a setului de date\n",
    "\n",
    "Setul de date Titanic conține informații despre pasagerii de pe RMS Titanic, incluzând sexul, clasa, vârsta, prețul biletului, portul de îmbarcare și dacă au supraviețuit sau nu.\n",
    "## Enunțarea obiectivelor\n",
    "\n",
    "Curățarea și preprocesarea datelor\n",
    "Grupări și agregări (ex. rata de supraviețuire în funcție de sex, clasă)\n",
    "Aplicarea de metode ML pentru clasificare (ex. supraviețuire)\n",
    "Construirea unui pipeline de procesare a datelor.\n",
    "\n",
    "Link dataset : `https://www.kaggle.com/datasets/yasserh/titanic-dataset`"
   ]
  }
 ],
 "metadata": {
  "kernelspec": {
   "display_name": "Python 3",
   "language": "python",
   "name": "python3"
  },
  "language_info": {
   "codemirror_mode": {
    "name": "ipython",
    "version": 3
   },
   "file_extension": ".py",
   "mimetype": "text/x-python",
   "name": "python",
   "nbconvert_exporter": "python",
   "pygments_lexer": "ipython3",
   "version": "3.11.12"
  }
 },
 "nbformat": 4,
 "nbformat_minor": 5
}
